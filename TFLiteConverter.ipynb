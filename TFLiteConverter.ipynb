{
  "nbformat": 4,
  "nbformat_minor": 0,
  "metadata": {
    "colab": {
      "name": "TFLiteConverter.ipynb",
      "version": "0.3.2",
      "provenance": [],
      "collapsed_sections": [],
      "toc_visible": true
    },
    "kernelspec": {
      "name": "python3",
      "display_name": "Python 3"
    },
    "accelerator": "GPU"
  },
  "cells": [
    {
      "cell_type": "markdown",
      "metadata": {
        "id": "q3YAVYO2NCgz",
        "colab_type": "text"
      },
      "source": [
        "# Convert the Keras model to a TensorFlow Lite model and write the .tflite file"
      ]
    },
    {
      "cell_type": "code",
      "metadata": {
        "id": "go_GFH86fLHr",
        "colab_type": "code",
        "colab": {}
      },
      "source": [
        "import tensorflow as tf\n",
        "\n",
        "converter = tf.lite.TFLiteConverter.from_keras_model_file( 'final_model2.h5' ) \n",
        "model = converter.convert()\n",
        "\n",
        "file = open( 'model.tflite' , 'wb' ) \n",
        "file.write( model )"
      ],
      "execution_count": 0,
      "outputs": []
    },
    {
      "cell_type": "markdown",
      "metadata": {
        "id": "cGSRGCDFvQgX",
        "colab_type": "text"
      },
      "source": [
        "# Check the output data type and shape."
      ]
    },
    {
      "cell_type": "code",
      "metadata": {
        "id": "-oow8h4znSYR",
        "colab_type": "code",
        "colab": {}
      },
      "source": [
        "import tensorflow as tf\n",
        "import numpy as np\n",
        "\n",
        "interpreter = tf.contrib.lite.Interpreter(model_path=\"model.tflite\")\n",
        "interpreter.allocate_tensors()\n",
        "\n",
        "print(interpreter.get_input_details()[0]['shape'])  \n",
        "print(interpreter.get_input_details()[0]['dtype']) \n",
        "\n",
        "print(interpreter.get_output_details()[0]['shape'])  \n",
        "print(interpreter.get_output_details()[0]['dtype']) \n"
      ],
      "execution_count": 0,
      "outputs": []
    }
  ]
}